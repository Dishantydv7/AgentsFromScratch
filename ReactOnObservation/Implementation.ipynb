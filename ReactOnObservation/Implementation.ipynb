{
 "cells": [
  {
   "cell_type": "code",
   "execution_count": 1,
   "metadata": {},
   "outputs": [],
   "source": [
    "import sys\n",
    "sys.path.append('/Users/dishant/Downloads/Code/GenAI/Projects/AgentFromScratch')"
   ]
  },
  {
   "cell_type": "code",
   "execution_count": 2,
   "metadata": {},
   "outputs": [],
   "source": [
    "import os\n",
    "import re\n",
    "import math\n",
    "import json\n",
    "from dotenv import load_dotenv\n",
    "\n",
    "from groq import Groq\n",
    "\n",
    "from ToolAgent.tool import tool\n",
    "from confs.extraction import extractTagContent\n",
    "\n",
    "\n",
    "# Remember to load the environment variables. You should have the Groq API Key in there :)\n",
    "load_dotenv()\n",
    "\n",
    "MODEL = \"llama-3.3-70b-versatile\"\n",
    "GROQ_CLIENT = Groq()\n",
    "import math"
   ]
  },
  {
   "cell_type": "code",
   "execution_count": 3,
   "metadata": {},
   "outputs": [],
   "source": [
    "@tool\n",
    "def sum_two_elements(a: int, b: int) -> int:\n",
    "    \"\"\"\n",
    "    Computes the sum of two integers.\n",
    "\n",
    "    Args:\n",
    "        a (int): The first integer to be summed.\n",
    "        b (int): The second integer to be summed.\n",
    "\n",
    "    Returns:\n",
    "        int: The sum of `a` and `b`.\n",
    "    \"\"\"\n",
    "    return a + b\n",
    "\n",
    "\n",
    "@tool\n",
    "def multiply_two_elements(a: int, b: int) -> int:\n",
    "    \"\"\"\n",
    "    Multiplies two integers.\n",
    "\n",
    "    Args:\n",
    "        a (int): The first integer to multiply.\n",
    "        b (int): The second integer to multiply.\n",
    "\n",
    "    Returns:\n",
    "        int: The product of `a` and `b`.\n",
    "    \"\"\"\n",
    "    return a * b\n",
    "\n",
    "@tool\n",
    "def compute_log(x: int) -> float | str:\n",
    "    \"\"\"\n",
    "    Computes the logarithm of an integer `x` with an optional base.\n",
    "\n",
    "    Args:\n",
    "        x (int): The integer value for which the logarithm is computed. Must be greater than 0.\n",
    "\n",
    "    Returns:\n",
    "        float: The logarithm of `x` to the specified `base`.\n",
    "    \"\"\"\n",
    "    if x <= 0:\n",
    "        return \"Logarithm is undefined for values less than or equal to 0.\"\n",
    "    \n",
    "    return math.log(x)\n",
    "\n",
    "\n",
    "available_tools = {\n",
    "    \"sum_two_elements\": sum_two_elements,\n",
    "    \"multiply_two_elements\": multiply_two_elements,\n",
    "    \"compute_log\": compute_log\n",
    "}"
   ]
  },
  {
   "cell_type": "code",
   "execution_count": 4,
   "metadata": {},
   "outputs": [],
   "source": [
    "from React import ReactAgent\n"
   ]
  },
  {
   "cell_type": "code",
   "execution_count": 5,
   "metadata": {},
   "outputs": [],
   "source": [
    "agent = ReactAgent(tools=[sum_two_elements, multiply_two_elements, compute_log])"
   ]
  },
  {
   "cell_type": "code",
   "execution_count": 6,
   "metadata": {},
   "outputs": [
    {
     "name": "stdout",
     "output_type": "stream",
     "text": [
      "\u001b[35m\n",
      "Thought: I need to calculate the sum of 1234 and 5678, then multiply the result by 5, and finally compute the logarithm of this result. I will first use the sum_two_elements function to add 1234 and 5678.\n",
      "\u001b[32m\n",
      "Using Tool: sum_two_elements\n",
      "\u001b[32m\n",
      "Tool call dict: \n",
      "{'name': 'sum_two_elements', 'arguments': {'a': 1234, 'b': 5678}, 'id': 0}\n",
      "\u001b[32m\n",
      "Tool result: \n",
      "6912\n",
      "\u001b[34m\n",
      "Observations: {0: 6912}\n",
      "\u001b[35m\n",
      "Thought: I have the sum of 1234 and 5678, which is 6912. Now, I need to multiply this result by 5. I will use the multiply_two_elements function to do this.\n",
      "\u001b[32m\n",
      "Using Tool: multiply_two_elements\n",
      "\u001b[32m\n",
      "Tool call dict: \n",
      "{'name': 'multiply_two_elements', 'arguments': {'a': 6912, 'b': 5}, 'id': 1}\n",
      "\u001b[32m\n",
      "Tool result: \n",
      "34560\n",
      "\u001b[34m\n",
      "Observations: {1: 34560}\n",
      "\u001b[35m\n",
      "Thought: I have the product of 6912 and 5, which is 34560. Now, I need to compute the logarithm of this result. I will use the compute_log function to do this.\n",
      "\u001b[32m\n",
      "Using Tool: compute_log\n",
      "\u001b[32m\n",
      "Tool call dict: \n",
      "{'name': 'compute_log', 'arguments': {'x': 34560}, 'id': 2}\n",
      "\u001b[32m\n",
      "Tool result: \n",
      "10.450452222917992\n",
      "\u001b[34m\n",
      "Observations: {2: 10.450452222917992}\n"
     ]
    },
    {
     "data": {
      "text/plain": [
       "'The sum of 1234 and 5678 is 6912. Multiplying this result by 5 gives 34560. The logarithm of 34560 is 10.450452222917992.'"
      ]
     },
     "execution_count": 6,
     "metadata": {},
     "output_type": "execute_result"
    }
   ],
   "source": [
    "agent.run(user_msg=\"I want to calculate the sum of 1234 and 5678 and multiply the result by 5. Then, I want to take the logarithm of this result\")\n"
   ]
  },
  {
   "cell_type": "code",
   "execution_count": null,
   "metadata": {},
   "outputs": [],
   "source": []
  }
 ],
 "metadata": {
  "kernelspec": {
   "display_name": ".venv",
   "language": "python",
   "name": "python3"
  },
  "language_info": {
   "codemirror_mode": {
    "name": "ipython",
    "version": 3
   },
   "file_extension": ".py",
   "mimetype": "text/x-python",
   "name": "python",
   "nbconvert_exporter": "python",
   "pygments_lexer": "ipython3",
   "version": "3.13.2"
  }
 },
 "nbformat": 4,
 "nbformat_minor": 2
}
